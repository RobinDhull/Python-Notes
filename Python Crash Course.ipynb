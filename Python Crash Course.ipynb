{
 "cells": [
  {
   "cell_type": "code",
   "execution_count": 2,
   "metadata": {},
   "outputs": [],
   "source": [
    "# Q1. WAP to convert the numbers of characters(character frequency) in a string.\n",
    "#     Expected Result = {'o': 3, 'g': 2, '.': 1, 'e': 1, 'I': 1, 'm': 1, 'c': 1}\n",
    "#     String - google.com"
   ]
  },
  {
   "cell_type": "code",
   "execution_count": null,
   "metadata": {},
   "outputs": [],
   "source": [
    "# Q2. WAP to get a story from a given string where all occurences of its first character have been changed to '$', except\n",
    "#     the first char itself.\n",
    "#     Sample string - 'restart'\n",
    "#     output - 'resta$t'"
   ]
  },
  {
   "cell_type": "code",
   "execution_count": 96,
   "metadata": {},
   "outputs": [
    {
     "name": "stdout",
     "output_type": "stream",
     "text": [
      "Input String : restart\n",
      "output String : resta$t\n"
     ]
    }
   ],
   "source": [
    "str1 = input(\"Input String : \")\n",
    "def change_char(str1):\n",
    "    char = str1[0]\n",
    "    if(char.isupper()):\n",
    "        str1 = str1.replace(char, '$')\n",
    "        str1 = char + str1[1:]\n",
    "        return str1\n",
    "    elif(char.islower()):\n",
    "        str1 = str1.replace(char, '$')\n",
    "        str1 = char + str1[1:]\n",
    "        return str1\n",
    "print(\"output String :\", change_char(str1))"
   ]
  },
  {
   "cell_type": "code",
   "execution_count": null,
   "metadata": {},
   "outputs": [],
   "source": [
    "# Q3. WAP to change a given string to a new string where the first and last characters have been exchanged."
   ]
  },
  {
   "cell_type": "code",
   "execution_count": null,
   "metadata": {},
   "outputs": [],
   "source": [
    "st1 = input(\"Enter a String : \").split(\",\")\n",
    "st2 = \"\"\n",
    "temp = \"\"\n",
    "l = len(st1)\n",
    "for i in range(l):\n",
    "    temp = st1[0]\n",
    "    st1[0] = st1[l - 1]\n",
    "    st1[l - 1] = temp\n",
    "print(st1)"
   ]
  },
  {
   "cell_type": "code",
   "execution_count": null,
   "metadata": {},
   "outputs": [],
   "source": [
    "st = input(\"Enter a string : \")\n",
    "print(st[-1:] + st[1:-1] + st[:1])"
   ]
  },
  {
   "cell_type": "code",
   "execution_count": null,
   "metadata": {},
   "outputs": [],
   "source": [
    "# Q4. WAP that accepts a comma seperated sequence of words as inputs and prints the unique words in sorted form form \n",
    "#     (alphanumerically).\n",
    "#     sample input - red, white, black, red, green, black\n",
    "#     output - black, green, red, white, red"
   ]
  },
  {
   "cell_type": "code",
   "execution_count": null,
   "metadata": {},
   "outputs": [],
   "source": []
  },
  {
   "cell_type": "code",
   "execution_count": null,
   "metadata": {},
   "outputs": [],
   "source": [
    "# Q5. WAP to capatilize first and last letter of each word of a given string.\n",
    "#     smaple input - 'the quick brown fox jumps over the lazy dog'\n",
    "#     output - ThE QuicK BrowN FoX JumpS OveR ThE LazY DoG"
   ]
  },
  {
   "cell_type": "code",
   "execution_count": null,
   "metadata": {},
   "outputs": [],
   "source": []
  },
  {
   "cell_type": "code",
   "execution_count": null,
   "metadata": {},
   "outputs": [],
   "source": [
    "# lists\n",
    "# join operation"
   ]
  },
  {
   "cell_type": "code",
   "execution_count": null,
   "metadata": {},
   "outputs": [],
   "source": [
    "l = ['a', 'b', 'c']\n",
    "a = ''.join(l)\n",
    "print(a)"
   ]
  },
  {
   "cell_type": "code",
   "execution_count": null,
   "metadata": {},
   "outputs": [],
   "source": [
    "# To update a list we can use\n",
    "# 1. slicing \n",
    "# 2. append() - add another list as a new element in list.\n",
    "# 3. insert(index, val or obj) - In insert if the index is 0 then the element is insert as first element and if the element \n",
    "#    specified as len of list then it is inserted at last element of list.\n",
    "# 4. index()\n",
    "# 5. list1.pop(index) - used for remove an element from a specified index position. If no index is specified then last element \n",
    "#    is removed.\n",
    "# 6. remove() - it removes the elements from the list.\n",
    "# 7. reverse() \n",
    "# 8. sort() - It sort the original list.\n",
    "# 9. sorted(list1) - prints sorted copy of list but doesn't change the original list.\n",
    "#    For sorting in reverse order - list1.sort(reverse = True)\n",
    "#    For sorting in reverse order - sorted(list1, reverse = True)\n",
    "# 10. extend() - It can add the complete list at the end.\n",
    "# "
   ]
  },
  {
   "cell_type": "code",
   "execution_count": null,
   "metadata": {},
   "outputs": [],
   "source": [
    "# Q. You have a list. Sort the list in ascending and descending order."
   ]
  },
  {
   "cell_type": "code",
   "execution_count": 6,
   "metadata": {},
   "outputs": [
    {
     "name": "stdout",
     "output_type": "stream",
     "text": [
      "[1, 2, 3, 4, 4, 6, 6, 6, 7, 8, 9, 10]\n",
      "[10, 9, 8, 7, 6, 6, 6, 4, 4, 3, 2, 1]\n"
     ]
    }
   ],
   "source": [
    "l = [1,4,3,2,6,4,8,7,6,9,6,10]\n",
    "l.sort()\n",
    "print(l)\n",
    "l1 = sorted(l,reverse = True)\n",
    "print(l1)"
   ]
  },
  {
   "cell_type": "code",
   "execution_count": null,
   "metadata": {},
   "outputs": [],
   "source": [
    "# Q. WAP to create list of numbers divisible by 4 or 13. All the elements of the list should lie in the range 200 to 500."
   ]
  },
  {
   "cell_type": "code",
   "execution_count": null,
   "metadata": {},
   "outputs": [],
   "source": [
    "l = []\n",
    "for i in range(200, 500):\n",
    "    if(i % 4 == 0 or i % 13 == 0):\n",
    "        l.append(i)\n",
    "print(l)"
   ]
  },
  {
   "cell_type": "code",
   "execution_count": null,
   "metadata": {},
   "outputs": [],
   "source": [
    "# Q. WAP to create a list of numbers from 1 to 10. delete all the even positions and print the final list. "
   ]
  },
  {
   "cell_type": "code",
   "execution_count": null,
   "metadata": {},
   "outputs": [],
   "source": [
    "l = [1,2,3,4,5,6,7,8,9,10]\n",
    "for i in range(2, 10):\n",
    "    if(i % 2 != 0):\n",
    "        l.remove(i)\n",
    "print(l)"
   ]
  },
  {
   "cell_type": "code",
   "execution_count": null,
   "metadata": {},
   "outputs": [],
   "source": [
    "# Q. WAP to print index at which a particular value exist. If the value exist at multiple position at list print all the index.\n",
    "#    also count the number of times the value is repeated."
   ]
  },
  {
   "cell_type": "code",
   "execution_count": 20,
   "metadata": {},
   "outputs": [
    {
     "name": "stdout",
     "output_type": "stream",
     "text": [
      "Enter a number : 5\n",
      "5\n",
      "7\n",
      "Count :  2\n"
     ]
    }
   ],
   "source": [
    "l = [1,2,3,4,4,5,6,5,4,3,2,3,4,2,2,3,4,8,7,9,7,9]\n",
    "n = int(input(\"Enter a number : \"))\n",
    "count = 0\n",
    "for i in range(len(l)):\n",
    "    if l[i] == n:\n",
    "        print(i)\n",
    "        count+=1\n",
    "print(\"Count : \", count)"
   ]
  },
  {
   "cell_type": "code",
   "execution_count": null,
   "metadata": {},
   "outputs": [],
   "source": [
    "list1 = [i**2 for i in range(21)]\n",
    "print(list1)"
   ]
  },
  {
   "cell_type": "code",
   "execution_count": 19,
   "metadata": {},
   "outputs": [
    {
     "name": "stdout",
     "output_type": "stream",
     "text": [
      "4.3\n",
      "2.302585092994046\n",
      "9.183480175552067e+148\n"
     ]
    }
   ],
   "source": [
    "import math\n",
    "print(abs(4.3))\n",
    "print(math.log(10))\n",
    "print(math.exp(343))"
   ]
  },
  {
   "cell_type": "code",
   "execution_count": 16,
   "metadata": {},
   "outputs": [
    {
     "name": "stdout",
     "output_type": "stream",
     "text": [
      "0.8347674690257528\n"
     ]
    }
   ],
   "source": [
    "import random as r\n",
    "\n",
    "print(r.random())"
   ]
  },
  {
   "cell_type": "code",
   "execution_count": 21,
   "metadata": {},
   "outputs": [
    {
     "name": "stdout",
     "output_type": "stream",
     "text": [
      "Quotient =  33\n",
      "Remainder =  1\n"
     ]
    }
   ],
   "source": [
    "quo, rem = divmod(100, 3)\n",
    "print(\"Quotient = \", quo)\n",
    "print(\"Remainder = \", rem)"
   ]
  },
  {
   "cell_type": "code",
   "execution_count": null,
   "metadata": {},
   "outputs": [],
   "source": [
    "#Q. create a list of random numbers and divide them in odd and even."
   ]
  },
  {
   "cell_type": "code",
   "execution_count": 36,
   "metadata": {},
   "outputs": [
    {
     "name": "stdout",
     "output_type": "stream",
     "text": [
      "[2, 82, 80, 34, 54, 78, 2]\n",
      "[73, 45, 51]\n"
     ]
    }
   ],
   "source": [
    "import random as r\n",
    "\n",
    "list1 = [r.randint(1,100) for i in range(10)]\n",
    "l1=[]\n",
    "l2=[]\n",
    "for j in list1:\n",
    "    if j%2==0:\n",
    "        l1.append(j)\n",
    "    else:\n",
    "        l2.append(j)\n",
    "print(l1)\n",
    "print(l2)"
   ]
  },
  {
   "cell_type": "code",
   "execution_count": 32,
   "metadata": {},
   "outputs": [],
   "source": [
    "#Q. using list comprehensions create a list of numbers x+x**y/2m +3 where x,m are entered numbers."
   ]
  },
  {
   "cell_type": "code",
   "execution_count": 38,
   "metadata": {},
   "outputs": [
    {
     "name": "stdout",
     "output_type": "stream",
     "text": [
      "5 4\n",
      "[6263.0, 2441406263.0, 61035156263.0, 12207031263.0, 38146972656263.0]\n"
     ]
    }
   ],
   "source": [
    "lst = []\n",
    "x,m = map(int, input().split())\n",
    "\n",
    "for i in range(5):\n",
    "    y = r.randint(1,20)\n",
    "    lst.append((x+x**y)/2*m+3)\n",
    "print(lst)"
   ]
  },
  {
   "cell_type": "code",
   "execution_count": null,
   "metadata": {},
   "outputs": [],
   "source": [
    "#Q. Take a input list from user until the user enter 0. scale each element by a factor of 10 and display the original list \n",
    "#   and sorted, modified, sort modified."
   ]
  },
  {
   "cell_type": "code",
   "execution_count": null,
   "metadata": {},
   "outputs": [],
   "source": [
    "lst = []\n",
    "l1 = []\n",
    "aA\n",
    "num = int(input())\n",
    "while num != 0:\n",
    "    num = int(input())\n",
    "    lst.append(num)\n",
    "    \n",
    "for i in lst:\n",
    "    j = i*10\n",
    "    l1.append(j)\n",
    "print(l1)\n",
    "print(sorted(l1))\n"
   ]
  },
  {
   "cell_type": "code",
   "execution_count": null,
   "metadata": {},
   "outputs": [],
   "source": [
    "#Q. wap to split the list every nth element."
   ]
  },
  {
   "cell_type": "code",
   "execution_count": null,
   "metadata": {},
   "outputs": [],
   "source": [
    "n = int(input())\n",
    "lst = []\n",
    "for i in range(10):\n",
    "    b = r.randint(1,100)\n",
    "    lst.append(b)\n",
    "for i in range(len(lst)):\n",
    "    if i == n:\n",
    "        \n",
    "print(lst)"
   ]
  },
  {
   "cell_type": "code",
   "execution_count": null,
   "metadata": {},
   "outputs": [],
   "source": [
    "#Q. wap to convert a list of multiple integer into a single integer."
   ]
  },
  {
   "cell_type": "code",
   "execution_count": null,
   "metadata": {},
   "outputs": [],
   "source": [
    "lst = input().split(\",\")\n",
    "a = \"\"\n",
    "for i in lst:\n",
    "    a = a+i\n",
    "print(a)\n"
   ]
  },
  {
   "cell_type": "code",
   "execution_count": null,
   "metadata": {},
   "outputs": [],
   "source": [
    "#Q. wap to create a list by concatinating a given list with range which goes from 1 to n."
   ]
  },
  {
   "cell_type": "code",
   "execution_count": 42,
   "metadata": {},
   "outputs": [
    {
     "name": "stdout",
     "output_type": "stream",
     "text": [
      "Requirement already satisfied: sympy in c:\\users\\robin\\anaconda3\\envs\\tensorflow\\lib\\site-packages (1.4)\n",
      "Requirement already satisfied: mpmath>=0.19 in c:\\users\\robin\\anaconda3\\envs\\tensorflow\\lib\\site-packages (from sympy) (1.1.0)\n",
      "Note: you may need to restart the kernel to use updated packages.\n"
     ]
    }
   ],
   "source": [
    "pip install sympy"
   ]
  },
  {
   "cell_type": "code",
   "execution_count": null,
   "metadata": {},
   "outputs": [],
   "source": [
    "#Q. select a number randomly from the list. if the number is prime number add a functionality to automatically close the editor."
   ]
  },
  {
   "cell_type": "code",
   "execution_count": 44,
   "metadata": {},
   "outputs": [
    {
     "name": "stdout",
     "output_type": "stream",
     "text": [
      "45\n",
      "66\n",
      "32\n",
      "7\n",
      "88\n",
      "55\n",
      "43\n",
      "69\n",
      "85\n",
      "1\n",
      "7 fev\n",
      "43 fev\n"
     ]
    }
   ],
   "source": [
    "import sympy as np\n",
    "lst = []\n",
    "for i in range(10):\n",
    "    j = int(input())\n",
    "    lst.append(j)\n",
    "for i in lst:\n",
    "    if np.isprime(i):\n",
    "        print(i, \"fev\")"
   ]
  },
  {
   "cell_type": "code",
   "execution_count": null,
   "metadata": {},
   "outputs": [],
   "source": [
    "#Q. WAP to print n copies of the first n characters of a string. return the n copies of the both strings in the entire string\n",
    "#   is from"
   ]
  },
  {
   "cell_type": "code",
   "execution_count": null,
   "metadata": {},
   "outputs": [],
   "source": [
    "st = input(\"Enter a string :\")\n",
    "n = int(input(\"Enter n: \"))\n",
    "m = int(input(\"Enter m: \"))\n",
    "l = len(st)\n",
    "if(l < m):\n",
    "    n = n-l\n",
    "    print(st, end=\"_\"*7)\n",
    "else:\n",
    "    print(st[:m] * 7)"
   ]
  },
  {
   "cell_type": "code",
   "execution_count": null,
   "metadata": {},
   "outputs": [],
   "source": [
    "#Q. Math teacher give a task to create histogram from the given list of integers.\n",
    "#   Take a input of the character using which histogram is produced."
   ]
  },
  {
   "cell_type": "code",
   "execution_count": null,
   "metadata": {},
   "outputs": [],
   "source": [
    "lst = [1, 4, 5, 3]\n",
    "ch = input(\"Enter a character: \")\n",
    "for i in lst:\n",
    "    print(i * ch)"
   ]
  },
  {
   "cell_type": "code",
   "execution_count": null,
   "metadata": {},
   "outputs": [],
   "source": [
    "#Q. WAP to find unique triplets whose sum of elements is 0 from an array of n elements."
   ]
  },
  {
   "cell_type": "code",
   "execution_count": null,
   "metadata": {},
   "outputs": [],
   "source": [
    "arr = []\n",
    "lst = []\n",
    "l = int(input(\"Enter Length of array: \"))\n",
    "for i in range(l):\n",
    "    n = int(input())\n",
    "    arr.append(n)\n",
    "\n",
    "for i in range(l):\n",
    "    for j in range(l):\n",
    "        for k in range(l):\n",
    "            if (arr[i] + arr[j] + arr[k]) == 0:\n",
    "                lst.append(arr[i])\n",
    "                lst.append(arr[j])\n",
    "                lst.append(arr[k])\n",
    "lst = list(set(lst))\n",
    "print(lst)"
   ]
  },
  {
   "cell_type": "code",
   "execution_count": null,
   "metadata": {},
   "outputs": [],
   "source": [
    "#Q. WAP that accepts a sequence of comma seperated 4 digit binary no. as its input and check wheather they are divisible by 5.\n",
    "#   Numbers that are divisible by 5 are to printed as comma seperated."
   ]
  },
  {
   "cell_type": "code",
   "execution_count": null,
   "metadata": {},
   "outputs": [],
   "source": [
    "num = input(\"Enter values: \").split(\",\")\n",
    "\n",
    "for i in num:\n",
    "    if int(i,2)%5 == 0:\n",
    "        print(i)\n"
   ]
  },
  {
   "cell_type": "code",
   "execution_count": null,
   "metadata": {},
   "outputs": [],
   "source": [
    "#Q. Using nested list of tuples to store topper details. Edit the detail and reprint the details taking the default value of \n",
    "#   topper = [('Arnav', ' Bsc', 92), ('ABC', 'Btech', 92.7), ('Aryan', 'BCA', 91), ('CDE', 'Bsc=HM', 82.7)]\n",
    "#   The output should be in the required format. \n",
    "#   Enter the name of the student whose details are to be edited. Enter the correct name ,correct course, correct percentage.\n",
    "#   Display the final list."
   ]
  },
  {
   "cell_type": "code",
   "execution_count": 97,
   "metadata": {},
   "outputs": [
    {
     "name": "stdout",
     "output_type": "stream",
     "text": [
      "('Arnav', ' Bsc', 92)\n",
      "('ABC', 'Btech', 92.7)\n",
      "('Aryan', 'BCA', 91)\n",
      "('CDE', 'Bsc=HM', 82.7)\n",
      "y/n if you want to change your details : y\n",
      "Enter the name whose details are to be edited : Arnav\n",
      "Enter correct name : Dhoni\n",
      "Enter correct course : B.E \n",
      "Enter correct percentage : 100\n",
      "[['Arnav', ' Bsc', 92], ['ABC', 'Btech', 92.7], ['Aryan', 'BCA', 91], ['CDE', 'Bsc=HM', 82.7]]\n",
      "[['Dhoni', 'B.E ', 100], ['ABC', 'Btech', 92.7], ['Aryan', 'BCA', 91], ['CDE', 'Bsc=HM', 82.7]]\n"
     ]
    }
   ],
   "source": [
    "lst = [('Arnav', ' Bsc', 92), ('ABC', 'Btech', 92.7), ('Aryan', 'BCA', 91), ('CDE', 'Bsc=HM', 82.7)]\n",
    "\n",
    "for i in lst:\n",
    "    print(i)\n",
    "    \n",
    "n  = input(\"y/n if you want to change your details : \")\n",
    "if n == 'y':\n",
    "    name = input(\"Enter the name whose details are to be edited : \")\n",
    "    name2 = input(\"Enter correct name : \")\n",
    "    course = input(\"Enter correct course : \")\n",
    "    marks = int(input(\"Enter correct percentage : \"))\n",
    "List1 = [list(x) for x in lst]\n",
    "print(List1)\n",
    "for i in range(len(List1)):\n",
    "    if List1[i][0] == name:\n",
    "        List1[i][0] = name2\n",
    "        List1[i][1] = course\n",
    "        List1[i][2] = marks\n",
    "print(List1)"
   ]
  },
  {
   "cell_type": "code",
   "execution_count": null,
   "metadata": {},
   "outputs": [],
   "source": [
    "#Q. You are required to write a program to sort the name, age, height tuples by ascending order where the name is the string \n",
    "#   height and age are numbers. The sorting criteria is 1. sort by name. 2. Sort by age. 3. Sort by height."
   ]
  },
  {
   "cell_type": "code",
   "execution_count": null,
   "metadata": {},
   "outputs": [],
   "source": [
    "lst = [('Arnav', 18 , 192), ('Elon', 19, 183), ('Aryan', 22, 191), ('CDE', 17, 186)]\n",
    "List1 = [list(x) for x in lst]\n",
    "num = input(\"Enter name/age/height for sort: \")\n",
    "\n",
    "if num == 'name':\n",
    "    for i in List1:\n",
    "        List1.sort()\n",
    "\n",
    "elif num == 'age':\n",
    "    for i in range(len(List1)):\n",
    "        for j in range(i+1, len(List1)):\n",
    "            if List1[i][1] > List1[j][1]:\n",
    "                temp = List1[i]\n",
    "                List1[i] = List1[j]\n",
    "                List1[j] = temp\n",
    "        \n",
    "elif num == 'height':\n",
    "    for i in range(len(List1)):\n",
    "        for j in range(i+1, len(List1)):\n",
    "            if List1[i][2] > List1[j][2]:\n",
    "                temp = List1[i]\n",
    "                List1[i] = List1[j]\n",
    "                List1[j] = temp\n",
    "print(List1)"
   ]
  },
  {
   "cell_type": "code",
   "execution_count": null,
   "metadata": {},
   "outputs": [],
   "source": [
    "#Q. Taking input of a default paragraph print frequency of each word."
   ]
  },
  {
   "cell_type": "code",
   "execution_count": null,
   "metadata": {},
   "outputs": [],
   "source": [
    "n = input(\"Enter a paragraph : \").split(\" \")\n",
    "count = 0\n",
    "\n",
    "for i, count in enumerate(n):\n",
    "    for j in (i+1,n):\n",
    "        if i == j:\n",
    "            count+=1\n",
    "            print(i, \"Count = \", count)"
   ]
  },
  {
   "cell_type": "code",
   "execution_count": null,
   "metadata": {},
   "outputs": [],
   "source": [
    "#Q. WAP to print a tuple with string formatting."
   ]
  },
  {
   "cell_type": "code",
   "execution_count": null,
   "metadata": {},
   "outputs": [],
   "source": [
    "n = int(input(\"Enter length : \"))\n",
    "lst = []\n",
    "for i in range(n):\n",
    "    i = int(input(\"Enter a number : \"))\n",
    "    lst.append(i)\n",
    "st = input(\"Enter a string : \")\n",
    "tup = tuple(lst)\n",
    "print(st + str(tup))"
   ]
  },
  {
   "cell_type": "code",
   "execution_count": null,
   "metadata": {},
   "outputs": [],
   "source": [
    "#Q. In a company there are four coders and five analyst working together in a team. printout the details.\n",
    "#   1. coders      2. people working as coders as well as analyst   3. people working as coders and analyst\n",
    "#   4. coders but not analyst      5.analyst but not coders        6. working only in one profile"
   ]
  },
  {
   "cell_type": "code",
   "execution_count": 105,
   "metadata": {},
   "outputs": [
    {
     "name": "stdout",
     "output_type": "stream",
     "text": [
      "1\n",
      "Enter name : elon\n",
      "Enter job title : coder\n",
      "{'elon'}\n"
     ]
    }
   ],
   "source": [
    "emp = dict()\n",
    "coder = set()\n",
    "analyst = set()\n",
    "n = int(input())\n",
    "for i, j in enumerate(range(n)):\n",
    "    i = input(\"Enter name : \")\n",
    "    j = input(\"Enter job title : \")\n",
    "    emp[j] = i\n",
    "\n",
    "for i in emp:\n",
    "    if(i == 'coder'):\n",
    "        coder.add(emp.get(i))\n",
    "    elif(i == 'analyst'):\n",
    "        analyst.add(emp.get(i))\n",
    "print(coder)"
   ]
  },
  {
   "cell_type": "code",
   "execution_count": 18,
   "metadata": {},
   "outputs": [
    {
     "name": "stdout",
     "output_type": "stream",
     "text": [
      "Enter total number of emp : 5\n",
      "Enter name : A\n",
      "Enter name : B\n",
      "Enter name : C\n",
      "Enter name : D\n",
      "Enter name : E\n",
      "Enter total number of emp : 4\n",
      "Enter name : X\n",
      "Enter name : A\n",
      "Enter name : C\n",
      "Enter name : Z\n",
      "coders :  {'A', 'E', 'D', 'B', 'C'}\n",
      "Both coder and analyst :  {'C', 'A'}\n",
      "Coders but not analyst :  {'E', 'B', 'D'}\n",
      "analyst but not coder :  {'X', 'Z'}\n",
      "emp working only in one profile :  {'Z', 'E', 'X', 'D', 'B'}\n"
     ]
    }
   ],
   "source": [
    "coder = set()\n",
    "analyst = set()\n",
    "\n",
    "n1 = int(input(\"Enter total number of coder : \"))\n",
    "for i in range(n1):\n",
    "    i = input(\"Enter name : \")\n",
    "    coder.add(i)\n",
    "    \n",
    "n2 = int(input(\"Enter total number of analyst : \"))\n",
    "for i in range(n2):\n",
    "    i = input(\"Enter name : \")\n",
    "    analyst.add(i)\n",
    "\n",
    "print(\"coders : \", coder)\n",
    "print(\"Both coder and analyst : \", coder & analyst)\n",
    "print(\"Coders but not analyst : \", (coder | analyst) - analyst)\n",
    "print(\"analyst but not coder : \", (coder | analyst) - coder)\n",
    "print(\"emp working only in one profile : \", (coder | analyst) - (coder & analyst))"
   ]
  },
  {
   "cell_type": "code",
   "execution_count": 1,
   "metadata": {},
   "outputs": [],
   "source": [
    "# Dictionaries\n",
    "# del dict_name\n",
    "# dict_name.clear()\n",
    "# dict_name.pop()\n",
    "# dict_name.popitem()\n",
    "# dict.value returns the list of values \n",
    "# dict.item returns a list of tuple key value\n",
    "# sorted(dict.keys())\n",
    "# length(dict)\n",
    "# str(dict) - returns a string representation of dictionary\n",
    "# dict.clear()\n",
    "# dict.copy() - It will return a shallow copy of dictionary\n",
    "# dict.fromkeys(sequence[,val]) - returns a dictionary from the sequence using values from sequnece as a key for the dictionary\n",
    "# and value to be val\n",
    "# dict.get()\n",
    "# dict.has_key(key)\n",
    "# dict.set_default()\n",
    "# dict1.update(dict2)"
   ]
  },
  {
   "cell_type": "code",
   "execution_count": 2,
   "metadata": {},
   "outputs": [],
   "source": [
    "# Q. WAP that has dictionary of states and their codes. Add a state which was not the part of the dictionary earlier. print all\n",
    "#    the items in the dictionary. If the user try to access a state which is not a part of the dictionary then display sorry\n",
    "#    no idea."
   ]
  },
  {
   "cell_type": "code",
   "execution_count": 16,
   "metadata": {},
   "outputs": [
    {
     "name": "stdout",
     "output_type": "stream",
     "text": [
      "Enter state code : GJ\n",
      "Enter state name : Gujrat\n",
      "{'DL': 'Delhi', 'HR': 'Haryana', 'PB': 'Punjab', 'RJ': 'Rajasthan', 'UP': 'Utter Pradesh', 'MH': 'Maharashtra', 'TN': 'Tamilnadu', 'GJ': 'Gujrat'}\n",
      "Enter State code which you want to access : HR\n",
      "Haryana\n"
     ]
    }
   ],
   "source": [
    "dict1 = {'DL':'Delhi', 'HR':'Haryana', 'PB':'Punjab', 'RJ':'Rajasthan', 'UP':'Utter Pradesh', 'MH':'Maharashtra', 'TN':'Tamilnadu'}\n",
    "key1 = input(\"Enter state code : \")\n",
    "val1 = input(\"Enter state name : \")\n",
    "dict1[key1] = val1\n",
    "print(dict1)\n",
    "\n",
    "code = input(\"Enter State code which you want to access : \")\n",
    "if code in dict1:\n",
    "    print(dict1[code])\n",
    "else:\n",
    "    print(\"Sorry, No idea\")"
   ]
  },
  {
   "cell_type": "code",
   "execution_count": 3,
   "metadata": {},
   "outputs": [],
   "source": [
    "#Q. WAP that creates the dictionary of radius and circumference until user enters -1."
   ]
  },
  {
   "cell_type": "code",
   "execution_count": 3,
   "metadata": {},
   "outputs": [
    {
     "name": "stdout",
     "output_type": "stream",
     "text": [
      "Enter radius : 5\n",
      "Enter radius : 4\n",
      "Enter radius : 3\n",
      "Enter radius : 8\n",
      "Enter radius : -1\n",
      "{5: 31.400000000000002, 4: 25.12, 3: 18.84, 8: 50.24, -1: -6.28}\n"
     ]
    }
   ],
   "source": [
    "dict1 = {}\n",
    "r = int(input(\"Enter radius : \"))\n",
    "c = 2*3.14*r\n",
    "dict1[r] = c\n",
    "while(r != -1):\n",
    "    r = int(input(\"Enter radius : \"))\n",
    "    c = 2*3.14*r\n",
    "    dict1[r] = c\n",
    "print(dict1)"
   ]
  },
  {
   "cell_type": "code",
   "execution_count": 4,
   "metadata": {},
   "outputs": [],
   "source": [
    "#Q. WAP that creates two dictionaries one that stores conversion values from meter to cm and the other that stores from cm to \n",
    "#   meter in the given range of 23 to 33 using dictionary comprehensions."
   ]
  },
  {
   "cell_type": "code",
   "execution_count": 22,
   "metadata": {},
   "outputs": [
    {
     "name": "stdout",
     "output_type": "stream",
     "text": [
      "meter to cm :  {23: 2300, 24: 2400, 25: 2500, 26: 2600, 27: 2700, 28: 2800, 29: 2900, 30: 3000, 31: 3100, 32: 3200, 33: 3300}\n",
      "cm to meter :  {23: 0.23, 24: 0.24, 25: 0.25, 26: 0.26, 27: 0.27, 28: 0.28, 29: 0.29, 30: 0.3, 31: 0.31, 32: 0.32, 33: 0.33}\n"
     ]
    }
   ],
   "source": [
    "dict1 = {x:x * 100 for x in range(23,34)}\n",
    "dict2 = {x:x / 100 for x in range(23,34)}\n",
    "print(\"meter to cm : \", dict1)\n",
    "print(\"cm to meter : \", dict2)"
   ]
  },
  {
   "cell_type": "code",
   "execution_count": null,
   "metadata": {},
   "outputs": [],
   "source": [
    "#Q. WAP to check wheather two lists are circularly identical."
   ]
  },
  {
   "cell_type": "code",
   "execution_count": 18,
   "metadata": {},
   "outputs": [
    {
     "name": "stdout",
     "output_type": "stream",
     "text": [
      "Enter list 1 : 1 2 3 4 5\n",
      "Enter list 2 : 2 3 4 5 1 \n",
      "True\n"
     ]
    }
   ],
   "source": [
    "l1,l2 = input(\"Enter list 1 : \").split(), input(\"Enter list 2 : \").split()\n",
    "print((' '.join(map(str, l2)) in ' '.join(map(str, l1 * 2)))) "
   ]
  },
  {
   "cell_type": "code",
   "execution_count": 2,
   "metadata": {},
   "outputs": [],
   "source": [
    "#Q. WAP to clone or copy a list."
   ]
  },
  {
   "cell_type": "code",
   "execution_count": 20,
   "metadata": {},
   "outputs": [
    {
     "name": "stdout",
     "output_type": "stream",
     "text": [
      "[1, 2, 3, 'a', 'b']\n"
     ]
    }
   ],
   "source": [
    "l = [1,2,3,'a','b']\n",
    "l1 = l\n",
    "print(l1)"
   ]
  },
  {
   "cell_type": "code",
   "execution_count": 7,
   "metadata": {},
   "outputs": [],
   "source": [
    "#Q. WAP to sum all the elements in a list"
   ]
  },
  {
   "cell_type": "code",
   "execution_count": 8,
   "metadata": {},
   "outputs": [
    {
     "name": "stdout",
     "output_type": "stream",
     "text": [
      "15\n"
     ]
    }
   ],
   "source": [
    "l = [1,2,3,4,5]\n",
    "sum = 0\n",
    "for i in l:\n",
    "    sum += i\n",
    "print(sum)"
   ]
  },
  {
   "cell_type": "code",
   "execution_count": 19,
   "metadata": {},
   "outputs": [
    {
     "name": "stdout",
     "output_type": "stream",
     "text": [
      "{'item1': 1150, 'item2': 300}\n"
     ]
    }
   ],
   "source": [
    "dict1 = {'item':'item1', 'amount':400}\n",
    "dict2 = {'item':'item2', 'amount':300}\n",
    "dict3 = {'item':'item3', 'amount':750}\n",
    "mx,mi,rem = 0,0,0\n",
    "if dict1['amount'] > dict2['amount'] and dict1['amount'] > dict3['amount']:\n",
    "    mx = dict1['amount']\n",
    "    if dict2['amount'] > dict3['amount']:\n",
    "        mi = dict3['amount']\n",
    "        rem = dict2['amount']\n",
    "    else:\n",
    "        mi = dict2['amount']\n",
    "        rem = dict3['amount']\n",
    "if dict2['amount'] > dict1['amount'] and dict2['amount'] > dict3['amount']:\n",
    "    mx = dict2['amount']\n",
    "    if dict3['amount'] > dict1['amount']:\n",
    "        mi = dict1['amount']\n",
    "        rem = dict3['amount']\n",
    "    else:\n",
    "        mi = dict3['amount']\n",
    "        rem = dict1['amount']\n",
    "if dict3['amount'] > dict2['amount'] and dict3['amount'] > dict1['amount']:\n",
    "    mx = dict3['amount']  \n",
    "    if dict2['amount'] > dict1['amount']:\n",
    "        mi = dict1['amount']\n",
    "        rem = dict2['amount']\n",
    "    else:\n",
    "        mi = dict2['amount']\n",
    "        rem = dict1['amount']\n",
    "\n",
    "dict4 = {'item1':mx+dict1['amount'], 'item2':mi}\n",
    "print(dict4)"
   ]
  },
  {
   "cell_type": "code",
   "execution_count": 7,
   "metadata": {},
   "outputs": [
    {
     "name": "stdout",
     "output_type": "stream",
     "text": [
      "{'item1': 1150, 'item2': 300}\n"
     ]
    }
   ],
   "source": [
    "dict1, dict2, dict3 = {'item':'item1', 'amount':400}, {'item':'item2', 'amount':300}, {'item':'item3', 'amount':750}\n",
    "mx = max(dict1['amount'], dict2['amount'], dict3['amount'])\n",
    "mi = min(dict1['amount'], dict2['amount'], dict3['amount'])\n",
    "dict4 = {'item1':dict1['amount'] + mx, 'item2':mi}\n",
    "print(dict4)"
   ]
  },
  {
   "cell_type": "code",
   "execution_count": 1,
   "metadata": {},
   "outputs": [],
   "source": [
    "#Q. English teacher has given a task to form all the possible 2 digit letter combinations. From a digit string from 1 to 9."
   ]
  },
  {
   "cell_type": "code",
   "execution_count": 106,
   "metadata": {},
   "outputs": [
    {
     "name": "stdout",
     "output_type": "stream",
     "text": [
      "Input : 47\n",
      "Output : ['jt', 'ju', 'jv', 'kt', 'ku', 'kv', 'lt', 'lu', 'lv']\n"
     ]
    }
   ],
   "source": [
    "map1 = {1:'abc', 2:'def', 3:'ghi', 4:'jkl', 5:'mno', 6:'pqrs', 7:'tuv', 8:'wxy', 9:'z'}\n",
    "num = int(input(\"Input : \"))\n",
    "l = []\n",
    "a = int(num/10)\n",
    "b = num%10\n",
    "l.append(a)\n",
    "l.append(b)\n",
    "list1 = []\n",
    "for i in map1[a]:\n",
    "    for j in map1[b]:\n",
    "        list1.append(i+j)\n",
    "\n",
    "print(\"Output :\", list1)    "
   ]
  },
  {
   "cell_type": "code",
   "execution_count": 113,
   "metadata": {},
   "outputs": [
    {
     "name": "stdout",
     "output_type": "stream",
     "text": [
      "Input : 47\n",
      "Output : {'ju', 'kv', 'kt', 'jv', 'jt', 'kl', 'ku', 'jl'}\n"
     ]
    }
   ],
   "source": [
    "map1 = {1:'abc', 2:'def', 3:'ghi', 4:'jkl', 5:'mno', 6:'pqrs', 7:'tuv', 8:'wxy', 9:'z'}\n",
    "num = int(input(\"Input : \"))\n",
    "l = []\n",
    "a = int(num/10)\n",
    "b = num%10\n",
    "l.append(a)\n",
    "l.append(b)\n",
    "list1 = []\n",
    "lst = \" \"\n",
    "for i in map1:\n",
    "    if i in l:\n",
    "        lst += map1[i]\n",
    "for i in range(len(lst)//2):\n",
    "    for j in range(len(lst)//2,len(lst)):\n",
    "        if lst[i] != \" \" and lst[j] != \" \":\n",
    "            list1.append(lst[i] + lst[j])\n",
    "print(\"Output :\", set(list1))    "
   ]
  },
  {
   "cell_type": "code",
   "execution_count": 2,
   "metadata": {},
   "outputs": [],
   "source": [
    "#Q. Given a dynamic list of  words entered by the user of variable length generate a nested dictionary such that "
   ]
  },
  {
   "cell_type": "code",
   "execution_count": 66,
   "metadata": {},
   "outputs": [
    {
     "name": "stdout",
     "output_type": "stream",
     "text": [
      "{'argumnet': {'sarcasm': {'monopoly': {'optimum': {}}}}}\n"
     ]
    }
   ],
   "source": [
    "list1 = ['argumnet', 'sarcasm', 'monopoly', 'optimum']\n",
    "def fun(list1):\n",
    "    dict1 = {}\n",
    "    if list1:\n",
    "        a = list1[0]\n",
    "        list1.remove(a)\n",
    "        dict1[a] = fun(list1)\n",
    "    return dict1\n",
    "print(fun(list1))"
   ]
  },
  {
   "cell_type": "code",
   "execution_count": 1,
   "metadata": {},
   "outputs": [],
   "source": [
    "# function"
   ]
  },
  {
   "cell_type": "code",
   "execution_count": 2,
   "metadata": {},
   "outputs": [],
   "source": [
    "#Q. WAP which takes the input as first, middle and last name and concatinate them."
   ]
  },
  {
   "cell_type": "code",
   "execution_count": 6,
   "metadata": {},
   "outputs": [
    {
     "name": "stdout",
     "output_type": "stream",
     "text": [
      "Enter first name : Robin \n",
      "Enter middle name : Singh \n",
      "Enter last name : Dhull \n",
      "Robin Singh Dhull \n"
     ]
    }
   ],
   "source": [
    "f_name = input(\"Enter first name : \")\n",
    "m_name = input(\"Enter middle name : \")\n",
    "l_name = input(\"Enter last name : \")\n",
    "\n",
    "def name(f_name, m_name, l_name):\n",
    "    name = f_name + m_name + l_name\n",
    "    return name\n",
    "print(name(f_name, m_name, l_name))"
   ]
  },
  {
   "cell_type": "code",
   "execution_count": 4,
   "metadata": {},
   "outputs": [],
   "source": [
    "#Q Take the input of time in hours and minutes and return the total minutes."
   ]
  },
  {
   "cell_type": "code",
   "execution_count": 11,
   "metadata": {},
   "outputs": [
    {
     "name": "stdout",
     "output_type": "stream",
     "text": [
      "Enter time : 12 30\n",
      "750\n"
     ]
    }
   ],
   "source": [
    "time = input(\"Enter time : \").split(\" \")\n",
    "\n",
    "def time(hour, minute):\n",
    "    time = hour * 60 + minute\n",
    "    return time\n",
    "print(time(hour, minute))"
   ]
  },
  {
   "cell_type": "code",
   "execution_count": null,
   "metadata": {},
   "outputs": [],
   "source": [
    "# keyworded arguments : python uses keywords provided in the function call to match the values to the arguments.\n",
    "# In no such case argument should not recieve more than 2 arguments while using keyworded arguments.\n",
    "# Default argument should be written last in the argument list.\n",
    "# variable length arguments are used in the situation where it is not known in advance how many arguments passed through \n",
    "# fuction. In such conditions we use arbitrary arguments. \n",
    "# The arbitrary number of arguments passed through a function are basically forming a function\n",
    "# Inside the fucntion for loop is used to access the function. The variable length arguments if presents in the function,\n",
    "# should be the last in the list of argumnets.\n",
    "# Any formal arguments written after the variable argument must be the keyword only argument."
   ]
  },
  {
   "cell_type": "code",
   "execution_count": 28,
   "metadata": {},
   "outputs": [
    {
     "name": "stdout",
     "output_type": "stream",
     "text": [
      "Richa\n",
      "Python\n",
      "c++\n",
      "Arya\n",
      "Java\n",
      "AB\n"
     ]
    }
   ],
   "source": [
    "def student(name, *subjects):\n",
    "    print(name)\n",
    "    for sub in subjects:\n",
    "        print(sub)\n",
    "student('Richa', 'Python', 'c++')\n",
    "student('Arya', 'Java')\n",
    "student('AB')"
   ]
  },
  {
   "cell_type": "code",
   "execution_count": 29,
   "metadata": {},
   "outputs": [],
   "source": [
    "#Q. Compute p(nr)."
   ]
  },
  {
   "cell_type": "code",
   "execution_count": null,
   "metadata": {},
   "outputs": [],
   "source": [
    "n = int(input(\"Enter n : \"))\n",
    "r = int(input(\"Enter r : \"))\n",
    "\n",
    "def per(n, r):\n",
    "    t1, t2 = 1, 1\n",
    "    for i in range(1, n+1):\n",
    "        t1 = t1 * i\n",
    "    for i in range(1, (n-r)+1):\n",
    "        t2 = t2 * i\n",
    "    p = t1//t2\n",
    "    return p\n",
    "print(per(n, r))"
   ]
  },
  {
   "cell_type": "code",
   "execution_count": null,
   "metadata": {},
   "outputs": [],
   "source": [
    "#Q. WAP to sum the series using function. \n",
    "#   1/1! + 4/4! + 27/3! + ..."
   ]
  },
  {
   "cell_type": "code",
   "execution_count": 64,
   "metadata": {},
   "outputs": [
    {
     "name": "stdout",
     "output_type": "stream",
     "text": [
      "Enter n : 3\n",
      "7.5\n"
     ]
    }
   ],
   "source": [
    "n = int(input(\"Enter n : \"))\n",
    "\n",
    "def series(n):\n",
    "    sum1,a = 0,1\n",
    "    for i in range(1, n+1):\n",
    "        a = i**i\n",
    "        fact = 1\n",
    "        for j in range(1,i+1):\n",
    "            fact = fact * j\n",
    "        sum1 = sum1 + a/fact\n",
    "    return sum1\n",
    "\n",
    "print(series(n))"
   ]
  },
  {
   "cell_type": "code",
   "execution_count": 78,
   "metadata": {},
   "outputs": [],
   "source": [
    "#Q. WAP that uses doc string to define a funcion and variable length arguments to define a function."
   ]
  },
  {
   "cell_type": "code",
   "execution_count": null,
   "metadata": {},
   "outputs": [],
   "source": []
  },
  {
   "cell_type": "code",
   "execution_count": null,
   "metadata": {},
   "outputs": [],
   "source": [
    "#Q. WAP that takes the input of user name and reads a person.\n",
    "#   input - saransh\n",
    "#   output - Welcome saransh"
   ]
  },
  {
   "cell_type": "code",
   "execution_count": null,
   "metadata": {},
   "outputs": [],
   "source": []
  },
  {
   "cell_type": "code",
   "execution_count": 1,
   "metadata": {},
   "outputs": [],
   "source": [
    "#Q. WAP to print the pattern using default arguments."
   ]
  },
  {
   "cell_type": "code",
   "execution_count": null,
   "metadata": {},
   "outputs": [],
   "source": []
  },
  {
   "cell_type": "code",
   "execution_count": 54,
   "metadata": {},
   "outputs": [
    {
     "name": "stdout",
     "output_type": "stream",
     "text": [
      "Enter list : 1 2 3 4 5\n",
      "15\n"
     ]
    }
   ],
   "source": [
    "def fun():\n",
    "    list1 = map(int, input(\"Enter list : \").split())\n",
    "    sum = 0\n",
    "    for i in list1:\n",
    "        sum = sum + i\n",
    "    return sum\n",
    "print(fun())"
   ]
  },
  {
   "cell_type": "code",
   "execution_count": 7,
   "metadata": {},
   "outputs": [
    {
     "name": "stdout",
     "output_type": "stream",
     "text": [
      "Enter a string : QWERTRYTRYTUYIUOPLKKJHGGFDSAXZCXVBVNVMMNSA\n",
      "panagram\n"
     ]
    }
   ],
   "source": [
    "s = input(\"Enter a string : \")\n",
    "string2 = 'abcdefghijklmnopqrstuvwxyz'\n",
    "string3 = string2.upper()\n",
    "flag = 0\n",
    "if all(x in s for x in string2 or x in string3):\n",
    "    flag = 1\n",
    "if flag == 0:\n",
    "    print(\"Not panagram\")\n",
    "else:\n",
    "    print(\"panagram\")"
   ]
  },
  {
   "cell_type": "code",
   "execution_count": null,
   "metadata": {},
   "outputs": [],
   "source": []
  },
  {
   "cell_type": "code",
   "execution_count": 120,
   "metadata": {},
   "outputs": [
    {
     "name": "stdout",
     "output_type": "stream",
     "text": [
      "Enter n : 4\n",
      "[1]\n",
      "[1, 1]\n",
      "[1, 2, 1]\n",
      "[1, 3, 3, 1]\n"
     ]
    }
   ],
   "source": [
    "n = int(input(\"Enter n : \"))\n",
    "lst1,lst2 = [1],[0]\n",
    "for i in range(n):\n",
    "    print(str(lst1))\n",
    "    lst1 = [i+j for i,j in zip(lst1+lst2, lst2+lst1)]"
   ]
  },
  {
   "cell_type": "code",
   "execution_count": null,
   "metadata": {},
   "outputs": [],
   "source": []
  },
  {
   "cell_type": "code",
   "execution_count": 66,
   "metadata": {},
   "outputs": [
    {
     "name": "stdout",
     "output_type": "stream",
     "text": [
      "resta$$\n"
     ]
    }
   ],
   "source": [
    "def change_char(str1):\n",
    "    for i in range(len(str1)):\n",
    "        char = str1[i]\n",
    "        if char in str1[i+1:]:\n",
    "            str1 = str1.replace(char, '$', 2).replace('$', char, 1)\n",
    "    return str1\n",
    "print(change_char('restart'))"
   ]
  },
  {
   "cell_type": "code",
   "execution_count": 65,
   "metadata": {},
   "outputs": [
    {
     "name": "stdout",
     "output_type": "stream",
     "text": [
      "ggd\n",
      "fds\n",
      "fdd ggs\n"
     ]
    }
   ],
   "source": [
    "str1, str2 = input(), input()\n",
    "print(str2[:2] + str1[2:] + \" \" + str1[:2] + str2[2:])"
   ]
  },
  {
   "cell_type": "code",
   "execution_count": null,
   "metadata": {},
   "outputs": [],
   "source": []
  },
  {
   "cell_type": "code",
   "execution_count": 69,
   "metadata": {},
   "outputs": [
    {
     "name": "stdout",
     "output_type": "stream",
     "text": [
      "e 2\n",
      "e 3\n",
      "h 2\n",
      "o 2\n",
      "o 3\n",
      "o 4\n",
      "r 2\n",
      "t 2\n",
      "u 2\n"
     ]
    }
   ],
   "source": [
    "str1 = 'thequickbrownfoxjumpsoverthelazydog'\n",
    "str1 = sorted(str1)\n",
    "dict1 = {}\n",
    "for i in str1:\n",
    "    dict1[i] = dict1.get(i, 0) + 1\n",
    "    if dict1.get(i) > 1:\n",
    "        print(i, dict1.get(i))"
   ]
  },
  {
   "cell_type": "code",
   "execution_count": 93,
   "metadata": {},
   "outputs": [
    {
     "name": "stdout",
     "output_type": "stream",
     "text": [
      "e 3\n",
      "h 2\n",
      "o 4\n",
      "r 2\n",
      "t 2\n",
      "u 2\n"
     ]
    }
   ],
   "source": [
    "chars = \"abcdefghijklmnopqrstuvwxyz\"\n",
    "str1 = 'thequickbrownfoxjumpsoverthelazydog'\n",
    "\n",
    "for char in chars:\n",
    "    count = str1.count(char)\n",
    "    if count > 1:\n",
    "        print(char, count)"
   ]
  },
  {
   "cell_type": "code",
   "execution_count": 1,
   "metadata": {},
   "outputs": [
    {
     "name": "stdout",
     "output_type": "stream",
     "text": [
      "30\n"
     ]
    }
   ],
   "source": [
    "fun = lambda a,b : a * b\n",
    "print(fun(5, 6))"
   ]
  },
  {
   "cell_type": "code",
   "execution_count": 2,
   "metadata": {},
   "outputs": [
    {
     "name": "stdout",
     "output_type": "stream",
     "text": [
      "[4, 8, 12, 16, 20]\n",
      "60\n"
     ]
    }
   ],
   "source": [
    "from functools import reduce\n",
    "lst = [1,2,3,4,5,6,7,8,9,10]\n",
    "even = list(filter(lambda n : (n % 2) == 0, lst))\n",
    "double = list(map(lambda n : n*2, even))\n",
    "print(double)\n",
    "print(reduce(lambda a,b : a+b, double))"
   ]
  },
  {
   "cell_type": "code",
   "execution_count": 3,
   "metadata": {},
   "outputs": [
    {
     "name": "stdout",
     "output_type": "stream",
     "text": [
      "Sum : [5, 4, 9, 12, 14, 7, 13, 12, 11, 11]\n"
     ]
    }
   ],
   "source": [
    "lst1 = [1,2,3,4,5,6,7,8,9,10]\n",
    "lst2 = [4,2,6,8,9,1,6,4,2,1,0]\n",
    "print(\"Sum :\", list(map(lambda a,b : a + b, lst1,lst2)))"
   ]
  },
  {
   "cell_type": "code",
   "execution_count": 4,
   "metadata": {},
   "outputs": [
    {
     "name": "stdout",
     "output_type": "stream",
     "text": [
      "Product : [4, 4, 18, 32, 45, 6, 42, 32, 18, 10]\n"
     ]
    }
   ],
   "source": [
    "lst1 = [1,2,3,4,5,6,7,8,9,10]\n",
    "lst2 = [4,2,6,8,9,1,6,4,2,1,0]\n",
    "print(\"Product :\", list(map(lambda a,b : a * b, lst1,lst2)))"
   ]
  },
  {
   "cell_type": "code",
   "execution_count": 5,
   "metadata": {},
   "outputs": [
    {
     "name": "stdout",
     "output_type": "stream",
     "text": [
      "[False, True, False, False, False, False, False, False, False, False]\n"
     ]
    }
   ],
   "source": [
    "lst1 = [1,2,3,4,5,6,7,8,9,10]\n",
    "lst2 = [4,2,6,8,9,1,6,4,2,1,0]\n",
    "print(list(map(lambda a,b : a == b, lst1,lst2)))"
   ]
  },
  {
   "cell_type": "code",
   "execution_count": 7,
   "metadata": {},
   "outputs": [],
   "source": [
    "# module\n",
    "# from module_name import fun_name()\n",
    "# from module_name import * "
   ]
  },
  {
   "cell_type": "code",
   "execution_count": null,
   "metadata": {},
   "outputs": [],
   "source": [
    "#Q. Using datatime display the current date and time and the function is Today."
   ]
  },
  {
   "cell_type": "code",
   "execution_count": 73,
   "metadata": {},
   "outputs": [
    {
     "name": "stdout",
     "output_type": "stream",
     "text": [
      "2019-09-11\n",
      "2019\n",
      "9\n",
      "11\n",
      "2\n",
      "Wednesday\n"
     ]
    }
   ],
   "source": [
    "from datetime import date\n",
    "from datetime import datetime\n",
    "print(date.today())\n",
    "print(date.today().year)\n",
    "print(date.today().month)\n",
    "print(date.today().day)\n",
    "d = (date.today().weekday())\n",
    "print(d)\n",
    "day = ['Monday', 'Tuesday', 'Wednesday', 'Thursday', 'Friday', 'Saturday', 'Sunday']\n",
    "print(day[d])"
   ]
  },
  {
   "cell_type": "code",
   "execution_count": 2,
   "metadata": {},
   "outputs": [
    {
     "name": "stdout",
     "output_type": "stream",
     "text": [
      "2019-09-17 23:37:01.296340\n",
      "2019-09-17 23:37:01.297343\n",
      "23:37:01.297343\n"
     ]
    }
   ],
   "source": [
    "from datetime import datetime\n",
    "\n",
    "print(datetime.today())\n",
    "print(datetime.now())\n",
    "print(datetime.time(datetime.now()))"
   ]
  },
  {
   "cell_type": "code",
   "execution_count": 57,
   "metadata": {},
   "outputs": [],
   "source": [
    "#Q. WAP to define fucntion which return datetime, weekday and day."
   ]
  },
  {
   "cell_type": "code",
   "execution_count": 73,
   "metadata": {},
   "outputs": [
    {
     "name": "stdout",
     "output_type": "stream",
     "text": [
      "Date: 2019-09-04\n",
      "Year: 2019\n",
      "Month: 9\n",
      "Day: Wednesday\n"
     ]
    }
   ],
   "source": [
    "from datetime import datetime\n",
    "from datetime import date\n",
    "\n",
    "def fun_date():\n",
    "    print(\"Date:\", date.today())\n",
    "    print(\"Year:\", date.today().year)\n",
    "    print(\"Month:\", date.today().month)\n",
    "    d = (date.today().weekday())\n",
    "    day = ['Monday', 'Tuesday', 'Wednesday', 'Thursday', 'Friday', 'Saturday', 'Sunday']\n",
    "    print(\"Day:\", day[d])\n",
    "fun_date()"
   ]
  },
  {
   "cell_type": "code",
   "execution_count": 74,
   "metadata": {},
   "outputs": [],
   "source": [
    "# format specifier are defined in strftime() \n",
    "# %a - weekday name in abbrivative manner\n",
    "# %A - weekday name in full manner \n",
    "# %w - weekday number\n",
    "# %d - day of the month with zero time\n",
    "# %b / %B - month name in abbrivative manner / Full manner\n",
    "# %H - 24 hour clock\n",
    "# %I - 12 hour clock\n",
    "# %Z - Time zone"
   ]
  },
  {
   "cell_type": "code",
   "execution_count": 75,
   "metadata": {},
   "outputs": [],
   "source": [
    "# Get today date using strftime()."
   ]
  },
  {
   "cell_type": "code",
   "execution_count": 75,
   "metadata": {},
   "outputs": [
    {
     "name": "stdout",
     "output_type": "stream",
     "text": [
      "Wed\n"
     ]
    }
   ],
   "source": [
    "from datetime import date\n",
    "t = date.today()\n",
    "print(t.strftime(\"%a\"))"
   ]
  },
  {
   "cell_type": "code",
   "execution_count": 90,
   "metadata": {},
   "outputs": [],
   "source": [
    "# display current time."
   ]
  },
  {
   "cell_type": "code",
   "execution_count": 108,
   "metadata": {},
   "outputs": [
    {
     "name": "stdout",
     "output_type": "stream",
     "text": [
      "10 : 07 : 01\n"
     ]
    }
   ],
   "source": [
    "from datetime import datetime\n",
    "t = datetime.now()\n",
    "t1 = t.strftime(\"%H\")\n",
    "t2 = t.strftime(\"%M\")\n",
    "t3 = t.strftime(\"%S\")\n",
    "print(t1, \":\", t2, \":\", t3)"
   ]
  },
  {
   "cell_type": "code",
   "execution_count": 116,
   "metadata": {},
   "outputs": [
    {
     "name": "stdout",
     "output_type": "stream",
     "text": [
      "04th Sep 2019\n"
     ]
    }
   ],
   "source": [
    "from datetime import date\n",
    "t = date.today()\n",
    "t1 = t.strftime(\"%d\")\n",
    "t2 = t.strftime(\"%b\")\n",
    "t3 = t.strftime(\"%Y\")\n",
    "print(t1+\"th\", t2, t3)"
   ]
  },
  {
   "cell_type": "code",
   "execution_count": 119,
   "metadata": {},
   "outputs": [
    {
     "name": "stdout",
     "output_type": "stream",
     "text": [
      "09/04/19\n"
     ]
    }
   ],
   "source": [
    "from datetime import date\n",
    "t = date.today()\n",
    "t1 = t.strftime(\"%D\")\n",
    "print(t1)"
   ]
  },
  {
   "cell_type": "code",
   "execution_count": 120,
   "metadata": {},
   "outputs": [],
   "source": [
    "# Take the input of two dates from the user. Find the difference in number of days, weeks and months."
   ]
  },
  {
   "cell_type": "code",
   "execution_count": 132,
   "metadata": {},
   "outputs": [
    {
     "name": "stdout",
     "output_type": "stream",
     "text": [
      "Enter date 1 :22/1/2019\n",
      "Enter date 2 :25/1/2019\n",
      "0 year 0 months 9 days\n"
     ]
    }
   ],
   "source": [
    "from datetime import *\n",
    "date1 = input(\"Enter date 1 :\").split(\"/\")\n",
    "date2 = input(\"Enter date 2 :\").split(\"/\")\n",
    "l1 = [1,3,5,7,8,10,12]\n",
    "l2 = [4,6,8,10]\n",
    "y = (int(date2[2]) - int(date1[2])) \n",
    "m = (int(date2[1]) - int(date1[1]))\n",
    "if date2[1] in l1:\n",
    "    if date1[1] in l1:\n",
    "        d = (int(date2[0]) - int(date1[0]))\n",
    "    else:\n",
    "        d = (int(date2[0]) - int(date1[0]))\n",
    "\n",
    "print(y, \"year\", m, \"months\", d, \"days\")"
   ]
  },
  {
   "cell_type": "code",
   "execution_count": 90,
   "metadata": {},
   "outputs": [
    {
     "name": "stdout",
     "output_type": "stream",
     "text": [
      "a is better than b\n"
     ]
    }
   ],
   "source": [
    "print(\"{} is better than {}\".format('a','b'))"
   ]
  },
  {
   "cell_type": "code",
   "execution_count": 10,
   "metadata": {},
   "outputs": [
    {
     "name": "stdout",
     "output_type": "stream",
     "text": [
      "Python\n",
      "Hello\n",
      "Welcome\n",
      "to\n"
     ]
    }
   ],
   "source": [
    "def fun(*a, a1):\n",
    "    print(a1)\n",
    "    for i in a:\n",
    "        print(i)\n",
    "fun('Hello','Welcome','to', a1 = 'Python')"
   ]
  },
  {
   "cell_type": "code",
   "execution_count": 3,
   "metadata": {},
   "outputs": [
    {
     "name": "stdout",
     "output_type": "stream",
     "text": [
      "[('H', 1), ('E', 1), ('L', 1), ('L', 1), ('O', 1), (' ', 1), ('W', 1), ('O', 1), ('R', 1), ('L', 1), ('D', 1)]\n"
     ]
    }
   ],
   "source": [
    "st = \"Hello World\"\n",
    "k = [(i.upper(), len(i)) for i in st]\n",
    "print(k)"
   ]
  },
  {
   "cell_type": "code",
   "execution_count": 4,
   "metadata": {},
   "outputs": [
    {
     "name": "stdout",
     "output_type": "stream",
     "text": [
      "26\n"
     ]
    }
   ],
   "source": [
    "tuple = {}\n",
    "tuple[(1,2,4)] = -7\n",
    "tuple[(4,2,1)] = 17\n",
    "tuple[(1,2)] = 13\n",
    "_sum = 0\n",
    "for k in tuple:\n",
    "    _sum += tuple[k]\n",
    "print(len(tuple) + _sum)"
   ]
  },
  {
   "cell_type": "code",
   "execution_count": 6,
   "metadata": {},
   "outputs": [
    {
     "name": "stdout",
     "output_type": "stream",
     "text": [
      "{0: 0, 5: 0, 1: 1, 6: 1}\n"
     ]
    }
   ],
   "source": [
    "Doc = dict()\n",
    "for x in enumerate(range(2)):\n",
    "    Doc[x[0]] = x[1]\n",
    "    Doc[x[1] + 5] = x[0]\n",
    "print(Doc)"
   ]
  },
  {
   "cell_type": "code",
   "execution_count": 8,
   "metadata": {},
   "outputs": [
    {
     "name": "stdout",
     "output_type": "stream",
     "text": [
      "123456d\n",
      "c\n",
      "b\n",
      "a\n"
     ]
    }
   ],
   "source": [
    "i = 1\n",
    "while True:\n",
    "    if i%7 == 0:\n",
    "        break\n",
    "    print(i, end = '')\n",
    "    i += 1\n",
    "for i in ''.join(reversed(list('abcd'))) : print(i)"
   ]
  },
  {
   "cell_type": "code",
   "execution_count": 11,
   "metadata": {},
   "outputs": [
    {
     "name": "stdout",
     "output_type": "stream",
     "text": [
      "{'1': {...}, 2: {...}, 3: {...}, 4: {...}, '2,3': {...}}\n"
     ]
    }
   ],
   "source": [
    "tup = ['1',2,3,4,'2,3']\n",
    "tic = {}\n",
    "toc = tic\n",
    "for z in tup:\n",
    "    tic[z] = tic\n",
    "    tic = tic[z]\n",
    "print(toc)"
   ]
  },
  {
   "cell_type": "code",
   "execution_count": 22,
   "metadata": {},
   "outputs": [
    {
     "name": "stdout",
     "output_type": "stream",
     "text": [
      "['a', '@', 'b@c@d']\n",
      "['a', 'b', 'c', 'd']\n"
     ]
    }
   ],
   "source": [
    "s = 'a@b@c@d'\n",
    "a = list(s.partition('@'))\n",
    "print(a)\n",
    "b = list(s.split('@',3))\n",
    "print(b)"
   ]
  },
  {
   "cell_type": "code",
   "execution_count": 2,
   "metadata": {},
   "outputs": [
    {
     "name": "stdout",
     "output_type": "stream",
     "text": [
      "[1, 0, 1, 0, 1]\n"
     ]
    }
   ],
   "source": [
    "l = [1,2,3,4,5]\n",
    "l1 = [x&1 for x in l]\n",
    "print(l1)"
   ]
  },
  {
   "cell_type": "code",
   "execution_count": 1,
   "metadata": {},
   "outputs": [],
   "source": [
    "# Regular Expression\n",
    "# works on row string\n",
    "# import re "
   ]
  },
  {
   "cell_type": "code",
   "execution_count": 2,
   "metadata": {},
   "outputs": [],
   "source": [
    "# re.match(pattern = \"\", string, flag = 0)\n",
    "# re.match(pattern = \"\", string, flag = re.I)   - for \n",
    "# re.search() \n",
    "# re.sub(pattern, repl, string, max)\n",
    "# re.findall(pattern, string, flag)     - checks for er occurance of a pattern\n",
    "# re.finder(pattern, string, flag)      - returns a iterator"
   ]
  },
  {
   "cell_type": "code",
   "execution_count": 3,
   "metadata": {},
   "outputs": [],
   "source": [
    "# Meta characters in regular expression - \n",
    "# 1. ^ - It matches the begining of the line.    eg. -> \"^A\"\n",
    "# 2. $ - It matches the end of the line.         eg. -> \"H$\"\n",
    "# 3. . - It matches any single character except newline character.       eg. -> \"he..o\"\n",
    "# 4. [] - It searches a set of characters.       eg. -> \"[Hh]\"\n",
    "# 5. * - It matches the number of occurances including 0 occurance or null string.   eg. -> \"Abc*\"\n",
    "# 6. {} - Indicate number of occurrences of a preceding RE to match.\n",
    "# 7. \\ - Used to drop the special meaning of character following it."
   ]
  },
  {
   "cell_type": "code",
   "execution_count": 43,
   "metadata": {},
   "outputs": [
    {
     "name": "stdout",
     "output_type": "stream",
     "text": [
      "['Welcome']\n"
     ]
    }
   ],
   "source": [
    "import re \n",
    "st = \"Welcome, Hello World\"\n",
    "print(re.findall(r\"^\\w+\",st))"
   ]
  },
  {
   "cell_type": "code",
   "execution_count": 21,
   "metadata": {},
   "outputs": [
    {
     "name": "stdout",
     "output_type": "stream",
     "text": [
      "['guru99']\n"
     ]
    }
   ],
   "source": [
    "import re\n",
    "st = \"guru99,education is fun\"\n",
    "print(re.findall(r\"^\\w+\",st))"
   ]
  },
  {
   "cell_type": "code",
   "execution_count": 55,
   "metadata": {},
   "outputs": [
    {
     "name": "stdout",
     "output_type": "stream",
     "text": [
      "['Welcome,', 'Hello', 'World']\n"
     ]
    }
   ],
   "source": [
    "import re \n",
    "st = \"Welcome, Hello World\"\n",
    "print(re.split(r\"\\s\",st))"
   ]
  },
  {
   "cell_type": "code",
   "execution_count": null,
   "metadata": {},
   "outputs": [],
   "source": []
  },
  {
   "cell_type": "code",
   "execution_count": 1,
   "metadata": {},
   "outputs": [],
   "source": [
    "# search, match and finditer have start, end and method "
   ]
  },
  {
   "cell_type": "code",
   "execution_count": 2,
   "metadata": {},
   "outputs": [],
   "source": [
    "#Q. given a string 'info@chitkara.edu.in'. Extract email id using regex."
   ]
  },
  {
   "cell_type": "code",
   "execution_count": 8,
   "metadata": {},
   "outputs": [
    {
     "name": "stdout",
     "output_type": "stream",
     "text": [
      "['info@chitkara.edu.in']\n"
     ]
    }
   ],
   "source": [
    "import re\n",
    "string = 'My email id is info@chitkara.edu.in'\n",
    "pattern = 'info@chitkara.edu.in'\n",
    "\n",
    "st = re.findall(pattern, string)\n",
    "if(st):\n",
    "    print(st)"
   ]
  },
  {
   "cell_type": "code",
   "execution_count": 3,
   "metadata": {},
   "outputs": [],
   "source": [
    "#Q. using regex wap to match strings start with a sequence of digits(at least one digit followed by a blank and then \n",
    "#    arbitrary characters)."
   ]
  },
  {
   "cell_type": "code",
   "execution_count": 20,
   "metadata": {},
   "outputs": [
    {
     "name": "stdout",
     "output_type": "stream",
     "text": [
      "['7 and']\n"
     ]
    }
   ],
   "source": [
    "import re\n",
    "string = 'hello, this is python 3.7 and this is the latest version'\n",
    "pattern = '\\d+\\s+\\w+'\n",
    "st = re.findall(pattern, string)\n",
    "if(st):\n",
    "    print(st)\n",
    "else:\n",
    "    print('match not found')"
   ]
  },
  {
   "cell_type": "code",
   "execution_count": 4,
   "metadata": {},
   "outputs": [],
   "source": [
    "#Q. wap to extract each word from the string using regex."
   ]
  },
  {
   "cell_type": "code",
   "execution_count": 28,
   "metadata": {},
   "outputs": [
    {
     "name": "stdout",
     "output_type": "stream",
     "text": [
      "SpaceX\n",
      "Tesla\n",
      "Microsoft\n",
      "google\n",
      "Apple\n"
     ]
    }
   ],
   "source": [
    "import re\n",
    "string = 'SpaceX, Tesla, Microsoft, google, Apple'\n",
    "pattern = '\\w+'\n",
    "st = re.findall(pattern, string)\n",
    "for i in st:\n",
    "    print(i)"
   ]
  },
  {
   "cell_type": "code",
   "execution_count": 5,
   "metadata": {},
   "outputs": [],
   "source": [
    "#Q. given a mutiline string extract first word of each line."
   ]
  },
  {
   "cell_type": "code",
   "execution_count": 48,
   "metadata": {},
   "outputs": [
    {
     "name": "stdout",
     "output_type": "stream",
     "text": [
      "['\\nRegular']\n"
     ]
    }
   ],
   "source": [
    "string = 'Data Science is one of the best carrer \\nRegular expression'\n",
    "pattern = '\\n\\w+'\n",
    "st = re.findall(pattern, string)\n",
    "print(st)"
   ]
  },
  {
   "cell_type": "code",
   "execution_count": 6,
   "metadata": {},
   "outputs": [],
   "source": [
    "#Q. given a string 'hello, my name is Robin and my date of joining is 11/09/2018 and have an experience of 1+ year'.\n",
    "# 1. extract date from given string.\n",
    "# 2. extract year from given strng.\n",
    "# 3. extarct name from given string.\n",
    "# 4. print only those words that starts with vowel."
   ]
  },
  {
   "cell_type": "code",
   "execution_count": null,
   "metadata": {},
   "outputs": [],
   "source": [
    "import re\n",
    "string = 'hello, my name is Robin and my date of joining is 11/09/2018 and have an experience of 1+ year'\n",
    "pattern = ''\n",
    "st = re.findall(pattern, string)\n",
    "print(st)  "
   ]
  },
  {
   "cell_type": "code",
   "execution_count": 1,
   "metadata": {},
   "outputs": [],
   "source": [
    "#Q. You are given some input and you are required to check whether they are valid mobile no's or not. A valid mobile no.\n",
    "#   is 10 digit mobile no. starting with7, 8 or 9. The first line contains integer n that specifies no. of inputs. n line\n",
    "#   follow each containing some string. n should be between 1>= and =<10 and lenght of n will be from 2 to 15."
   ]
  },
  {
   "cell_type": "code",
   "execution_count": 36,
   "metadata": {},
   "outputs": [
    {
     "name": "stdout",
     "output_type": "stream",
     "text": [
      "1\n",
      "9876545342\n",
      "9876545342\n"
     ]
    }
   ],
   "source": [
    "import re\n",
    "n = int(input())\n",
    "for i in range(n):\n",
    "    number = input()\n",
    "    pattern = r'[7,8,9][0-9]{9}'\n",
    "    st = re.search(pattern, number)\n",
    "    if st:\n",
    "        print(number)\n",
    "    else:\n",
    "        print('Not a valid mobile number')"
   ]
  },
  {
   "cell_type": "code",
   "execution_count": 4,
   "metadata": {},
   "outputs": [],
   "source": [
    "#Q. Given a task of validating email id, a valid email id means the following criteria. It is composed of user_name, domain name\n",
    "#   and extension assembled in the form username@domainname.extension. The username starts with english alphabatical character \n",
    "#   and any subsequent character contain one or more of the following(alphanumeric,-, ., _).\n",
    "#   the domain and extension contain only english alphabatical charcter.\n",
    "#   the extension is 1, 2 or 3 characters in length given n pair of mails and email addresses as input. print each name and \n",
    "#   email address having the valid pair. input format - first line contains n line of email address and subsequent line conatins\n",
    "#   name and email address seperated by a space."
   ]
  },
  {
   "cell_type": "code",
   "execution_count": 1,
   "metadata": {},
   "outputs": [
    {
     "name": "stdout",
     "output_type": "stream",
     "text": [
      "1\n",
      "Robin robin707singh@gmail.com\n",
      "name = Robin  emailID = robin707singh@gmail.com\n",
      "\n"
     ]
    }
   ],
   "source": [
    "import re\n",
    "n = int(input())\n",
    "for i in range(n):\n",
    "    username, emailID = input().split()\n",
    "    pattern1 = '^[a-zA-Z]\\w+'\n",
    "    emailID = emailID + '\\n'\n",
    "    st1 = re.findall(pattern1, username)\n",
    "    pattern2 = '[a-z,A-Z][a-z,A-Z,0-9,-,_]*[@][a-z]*[.][a-z]{1,3}\\n'\n",
    "    st2 = re.findall(pattern2, emailID)\n",
    "    if st1 and st2:\n",
    "        print('name =', username, ' emailID =', emailID)"
   ]
  },
  {
   "cell_type": "code",
   "execution_count": null,
   "metadata": {},
   "outputs": [],
   "source": []
  },
  {
   "cell_type": "code",
   "execution_count": null,
   "metadata": {},
   "outputs": [],
   "source": []
  },
  {
   "cell_type": "code",
   "execution_count": 1,
   "metadata": {},
   "outputs": [],
   "source": [
    "# Exception Handling"
   ]
  },
  {
   "cell_type": "code",
   "execution_count": 25,
   "metadata": {},
   "outputs": [
    {
     "name": "stdout",
     "output_type": "stream",
     "text": [
      "Enter age : 25\n",
      "No exception were thrown.\n",
      "Execution continues.\n"
     ]
    }
   ],
   "source": [
    "try:\n",
    "    file = open('main.ipynb')\n",
    "    age = int(input(\"Enter age : \"))\n",
    "    xfactor = 10 / age\n",
    "    \n",
    "except ValueError as ex1:\n",
    "    print(\"You didn't enter a valid age.\")\n",
    "    print(ex)\n",
    "    print(type(ex))\n",
    "    \n",
    "except ZeroDivisionError as ex2:\n",
    "    print(\"Age can not be zero.\")\n",
    "    print(ex2)\n",
    "    print(type(ex2))\n",
    "    \n",
    "else:\n",
    "    print(\"No exception were thrown.\")\n",
    "    \n",
    "finally:\n",
    "    file.close()\n",
    "    \n",
    "print(\"Execution continues.\")"
   ]
  },
  {
   "cell_type": "code",
   "execution_count": 34,
   "metadata": {},
   "outputs": [
    {
     "name": "stdout",
     "output_type": "stream",
     "text": [
      "age : 0\n",
      "Age can not be 0 or less.\n"
     ]
    }
   ],
   "source": [
    "def calculate_xfactor(age):\n",
    "    if age <= 0:\n",
    "        raise ValueError(\"Age can not be 0 or less.\")\n",
    "    return age / 10\n",
    "\n",
    "try:\n",
    "    calculate_xfactor(int(input(\"age : \")))\n",
    "except ValueError as error:\n",
    "    print(error)"
   ]
  },
  {
   "cell_type": "code",
   "execution_count": 1,
   "metadata": {},
   "outputs": [],
   "source": [
    "# Classes and Objects"
   ]
  },
  {
   "cell_type": "code",
   "execution_count": 38,
   "metadata": {},
   "outputs": [
    {
     "name": "stdout",
     "output_type": "stream",
     "text": [
      "My name is Robin\n"
     ]
    },
    {
     "data": {
      "text/plain": [
       "'Robin'"
      ]
     },
     "execution_count": 38,
     "metadata": {},
     "output_type": "execute_result"
    }
   ],
   "source": [
    "class A:\n",
    "    def __init__(self, name):\n",
    "        self.name = name\n",
    "        print(\"My name is {}\".format(name))\n",
    "    def __str__(self, name):\n",
    "        print(name)\n",
    "\n",
    "name = A(\"Robin\")\n",
    "'Robin'.__str__()"
   ]
  },
  {
   "cell_type": "code",
   "execution_count": 45,
   "metadata": {},
   "outputs": [
    {
     "name": "stdout",
     "output_type": "stream",
     "text": [
      "robin singh\n",
      "robin707singh@gmail.com\n"
     ]
    }
   ],
   "source": [
    "class Person:\n",
    "    def __init__(self, first, last, pay):\n",
    "        self.first = first\n",
    "        self.last = last\n",
    "        self.pay = pay\n",
    "        self.email = first + '707' + last + '@gmail.com'\n",
    "    \n",
    "    def full_name(self):\n",
    "        return self.first + \" \" + self.last\n",
    "\n",
    "test = Person('robin', 'singh', 1000000000)\n",
    "print(test.full_name())\n",
    "print(test.email)"
   ]
  },
  {
   "cell_type": "code",
   "execution_count": null,
   "metadata": {},
   "outputs": [],
   "source": []
  },
  {
   "cell_type": "code",
   "execution_count": null,
   "metadata": {},
   "outputs": [],
   "source": []
  }
 ],
 "metadata": {
  "kernelspec": {
   "display_name": "Python 3",
   "language": "python",
   "name": "python3"
  },
  "language_info": {
   "codemirror_mode": {
    "name": "ipython",
    "version": 3
   },
   "file_extension": ".py",
   "mimetype": "text/x-python",
   "name": "python",
   "nbconvert_exporter": "python",
   "pygments_lexer": "ipython3",
   "version": "3.7.3"
  }
 },
 "nbformat": 4,
 "nbformat_minor": 2
}
